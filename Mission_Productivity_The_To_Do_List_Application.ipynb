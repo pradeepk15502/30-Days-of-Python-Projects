{
  "nbformat": 4,
  "nbformat_minor": 0,
  "metadata": {
    "colab": {
      "provenance": []
    },
    "kernelspec": {
      "name": "python3",
      "display_name": "Python 3"
    },
    "language_info": {
      "name": "python"
    }
  },
  "cells": [
    {
      "cell_type": "code",
      "execution_count": 2,
      "metadata": {
        "colab": {
          "base_uri": "https://localhost:8080/"
        },
        "id": "PhFZQrvbouek",
        "outputId": "f91220d9-bcbb-498d-e50f-c9ad1072d2ad"
      },
      "outputs": [
        {
          "output_type": "stream",
          "name": "stdout",
          "text": [
            "\n",
            "--- Secret Agency To-Do List ---\n",
            "1. Add Task\n",
            "2. Remove Task\n",
            "3. View Tasks\n",
            "4. Mark Task as Completed\n",
            "5. Exit\n",
            "Choose an option (1-5): 5\n",
            "Exiting the application. Mission accomplished!\n"
          ]
        }
      ],
      "source": [
        "tasks = []\n",
        "\n",
        "def show_menu():\n",
        "    print(\"\\n--- Secret Agency To-Do List ---\")\n",
        "    print(\"1. Add Task\")\n",
        "    print(\"2. Remove Task\")\n",
        "    print(\"3. View Tasks\")\n",
        "    print(\"4. Mark Task as Completed\")\n",
        "    print(\"5. Exit\")\n",
        "\n",
        "def add_task():\n",
        "    title = input(\"Enter task title: \")\n",
        "    priority = input(\"Priority (High/Medium/Low): \").capitalize()\n",
        "    tasks.append({\"title\": title, \"completed\": False, \"priority\": priority})\n",
        "    print(\"Task added successfully!\")\n",
        "\n",
        "def remove_task():\n",
        "    view_tasks()\n",
        "    if tasks:\n",
        "        try:\n",
        "            task_num = int(input(\"Enter task number to remove: \"))\n",
        "            if 1 <= task_num <= len(tasks):\n",
        "                removed = tasks.pop(task_num - 1)\n",
        "                print(f\"🗑 Task '{removed['title']}' removed.\")\n",
        "            else:\n",
        "                print(\"Invalid task number.\")\n",
        "        except ValueError:\n",
        "            print(\"Please enter a valid number.\")\n",
        "\n",
        "def view_tasks():\n",
        "    if not tasks:\n",
        "        print(\"No tasks found.\")\n",
        "    else:\n",
        "        print(\"\\n--- Your Tasks ---\")\n",
        "        for i, task in enumerate(tasks, 1):\n",
        "            status = \"Completed\" if task[\"completed\"] else \"Pending\"\n",
        "            print(f\"{i}. {task['title']} [{status}] - Priority: {task['priority']}\")\n",
        "\n",
        "def mark_completed():\n",
        "    view_tasks()\n",
        "    if tasks:\n",
        "        try:\n",
        "            task_num = int(input(\"Enter task number to mark as completed: \"))\n",
        "            if 1 <= task_num <= len(tasks):\n",
        "                tasks[task_num - 1][\"completed\"] = True\n",
        "                print(f\"Task '{tasks[task_num - 1]['title']}' marked as completed!\")\n",
        "            else:\n",
        "                print(\"Invalid task number.\")\n",
        "        except ValueError:\n",
        "            print(\"Please enter a valid number.\")\n",
        "\n",
        "5\n",
        "\n",
        "while True:\n",
        "    show_menu()\n",
        "    choice = input(\"Choose an option (1-5): \")\n",
        "\n",
        "    if choice == \"1\":\n",
        "        add_task()\n",
        "    elif choice == \"2\":\n",
        "        remove_task()\n",
        "    elif choice == \"3\":\n",
        "        view_tasks()\n",
        "    elif choice == \"4\":\n",
        "        mark_completed()\n",
        "    elif choice == \"5\":\n",
        "        print(\"Exiting the application. Mission accomplished!\")\n",
        "        break\n",
        "    else:\n",
        "        print(\"Invalid choice. Please try again.\")\n"
      ]
    }
  ]
}